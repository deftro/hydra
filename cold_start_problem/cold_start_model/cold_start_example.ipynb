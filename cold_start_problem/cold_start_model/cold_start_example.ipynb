{
 "cells": [
  {
   "cell_type": "markdown",
   "metadata": {},
   "source": [
    "# Загружаем исходные данные\n",
    "\n",
    "взаимодействия контент-пользователь в виде csr-матрицы"
   ]
  },
  {
   "cell_type": "code",
   "execution_count": 5,
   "metadata": {},
   "outputs": [
    {
     "name": "stdout",
     "output_type": "stream",
     "text": [
      "Загрузили датасет на 82626 пользователей и 12231 единиц контента, количество интеракций 1164\n"
     ]
    }
   ],
   "source": [
    "import numpy as np\n",
    "from scipy.sparse import load_npz\n",
    "\n",
    "# загружаем матриц user-item\n",
    "user_item_views_coo = load_npz('/srv/data/user_item_interactions.npz')\n",
    "\n",
    "num_rows, num_cols = user_item_views_coo.shape\n",
    "print(\n",
    "    'Загрузили датасет на %d пользователей и %d единиц контента, количество интеракций %d'\n",
    "    % (num_rows, num_cols, user_item_views_coo.nnz)\n",
    ")"
   ]
  },
  {
   "cell_type": "markdown",
   "metadata": {},
   "source": [
    "Загружаем редакторские тэги"
   ]
  },
  {
   "cell_type": "code",
   "execution_count": 7,
   "metadata": {},
   "outputs": [],
   "source": [
    "import pickle\n",
    "\n",
    "with open('/srv/data/tag_dataset.pkl', 'rb') as f:\n",
    "    dataset = pickle.load(f)\n",
    "    \n",
    "dataset"
   ]
  },
  {
   "cell_type": "markdown",
   "metadata": {},
   "source": [
    "Тэги рандомного контента"
   ]
  },
  {
   "cell_type": "code",
   "execution_count": 20,
   "metadata": {},
   "outputs": [
    {
     "name": "stdout",
     "output_type": "stream",
     "text": [
      "Тэги контента id=1850:\n",
      "\n",
      "12590 13060 12650 154 15560 6240 6640 16600 8280 520082 11480 6420 4190 11980 13520 11290 15090 6010 11880 16530 6710 11790 5100 6050 15990 2133 8620 11300 1883 2560 12620 12820 11550 10500 8340 10380 2570 8820 18020 11780 10010\n"
     ]
    }
   ],
   "source": [
    "random_content = np.random.randint(low=0, high=len(dataset))\n",
    "\n",
    "print('Тэги контента id=%d:\\n\\n%s' % (random_content, dataset[random_content]))"
   ]
  },
  {
   "cell_type": "markdown",
   "metadata": {},
   "source": [
    "История смотрения пользователя"
   ]
  },
  {
   "cell_type": "code",
   "execution_count": 42,
   "metadata": {},
   "outputs": [
    {
     "name": "stdout",
     "output_type": "stream",
     "text": [
      "История пользователя id=51233:\n",
      "\n",
      "2122\n"
     ]
    }
   ],
   "source": [
    "random_user = np.random.choice(user_item_views_coo.nonzero()[0])\n",
    "\n",
    "interaction_history = user_item_views_coo.tocsr()[random_user,:]\n",
    "\n",
    "print('История пользователя id=%d:\\n\\n%d' % (random_user, interaction_history.nonzero()[1]))"
   ]
  },
  {
   "cell_type": "code",
   "execution_count": 43,
   "metadata": {},
   "outputs": [],
   "source": [
    "import pandas as pd\n",
    "dataframe_entries = []\n",
    "for content in range(len(dataset)):\n",
    "    for tag in dataset[content].split(' '):\n",
    "        dataframe_entries.append([content, tag])\n",
    "tags_df = pd.DataFrame(dataframe_entries, columns = ['content', 'tag'])"
   ]
  },
  {
   "cell_type": "markdown",
   "metadata": {},
   "source": [
    "Распределение тэгов по популярности"
   ]
  },
  {
   "cell_type": "code",
   "execution_count": 56,
   "metadata": {},
   "outputs": [
    {
     "data": {
      "text/html": [
       "<div>\n",
       "<style scoped>\n",
       "    .dataframe tbody tr th:only-of-type {\n",
       "        vertical-align: middle;\n",
       "    }\n",
       "\n",
       "    .dataframe tbody tr th {\n",
       "        vertical-align: top;\n",
       "    }\n",
       "\n",
       "    .dataframe thead th {\n",
       "        text-align: right;\n",
       "    }\n",
       "</style>\n",
       "<table border=\"1\" class=\"dataframe\">\n",
       "  <thead>\n",
       "    <tr style=\"text-align: right;\">\n",
       "      <th></th>\n",
       "      <th>tag</th>\n",
       "      <th>content</th>\n",
       "    </tr>\n",
       "  </thead>\n",
       "  <tbody>\n",
       "    <tr>\n",
       "      <th>1185</th>\n",
       "      <td>144</td>\n",
       "      <td>10399</td>\n",
       "    </tr>\n",
       "    <tr>\n",
       "      <th>145</th>\n",
       "      <td>10500</td>\n",
       "      <td>8568</td>\n",
       "    </tr>\n",
       "    <tr>\n",
       "      <th>756</th>\n",
       "      <td>12820</td>\n",
       "      <td>7084</td>\n",
       "    </tr>\n",
       "    <tr>\n",
       "      <th>2285</th>\n",
       "      <td>2113</td>\n",
       "      <td>6533</td>\n",
       "    </tr>\n",
       "    <tr>\n",
       "      <th>814</th>\n",
       "      <td>13070</td>\n",
       "      <td>5997</td>\n",
       "    </tr>\n",
       "  </tbody>\n",
       "</table>\n",
       "</div>"
      ],
      "text/plain": [
       "        tag  content\n",
       "1185    144    10399\n",
       "145   10500     8568\n",
       "756   12820     7084\n",
       "2285   2113     6533\n",
       "814   13070     5997"
      ]
     },
     "execution_count": 56,
     "metadata": {},
     "output_type": "execute_result"
    }
   ],
   "source": [
    "tags_df.groupby(\n",
    "    'tag'\n",
    ")[\n",
    "    'content'\n",
    "].count().reset_index().sort_values(\n",
    "    by='content', ascending=False\n",
    ").head()"
   ]
  },
  {
   "cell_type": "code",
   "execution_count": null,
   "metadata": {},
   "outputs": [],
   "source": []
  }
 ],
 "metadata": {
  "kernelspec": {
   "display_name": "Python 3",
   "language": "python",
   "name": "python3"
  },
  "language_info": {
   "codemirror_mode": {
    "name": "ipython",
    "version": 3
   },
   "file_extension": ".py",
   "mimetype": "text/x-python",
   "name": "python",
   "nbconvert_exporter": "python",
   "pygments_lexer": "ipython3",
   "version": "3.6.9"
  }
 },
 "nbformat": 4,
 "nbformat_minor": 2
}
